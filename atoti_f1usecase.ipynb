{
 "cells": [
  {
   "cell_type": "markdown",
   "metadata": {},
   "source": [
    "# F1 statistics & simulation"
   ]
  },
  {
   "cell_type": "markdown",
   "metadata": {},
   "source": [
    "## Introduction\n",
    "Jupyter notebook created by David Chevrier, Diggers  \n",
    "Built on ATOTI, ActivePivot Python API library, Community version  \n",
    "http://diggers-consulting.com  \n",
    "contact@diggers-consulting.com  \n",
    "April 2020\n",
    "\n",
    "Tutorial project with ATOTI, analyzing historical Formula1 data to understand the impact of different scoring systems in F1 history on championship results\n",
    "\n",
    "git-hub\n",
    "https://github.com/dch-diggers/F1-data-analysis-with-ATOTI"
   ]
  },
  {
   "cell_type": "markdown",
   "metadata": {},
   "source": [
    "## Dataset\n",
    "Data from https://ergast.com/mrd/db/#csv or https://www.kaggle.com/draeg82/exploration-of-f1-dataset/data  \n",
    "F1 data from 1950 to 2019\n"
   ]
  },
  {
   "cell_type": "markdown",
   "metadata": {},
   "source": [
    "## Prerequisites\n",
    "### Installation\n",
    "ATOTI library installed in your jupyter lab environment  \n",
    "Check the official installation page https://docs.atoti.io/0.3.1/installation.html\n",
    "\n",
    "### Changes in data files\n",
    "In files drivers.csv, rename column 'url' to 'driver_url'"
   ]
  },
  {
   "cell_type": "markdown",
   "metadata": {},
   "source": [
    "## 1. Initialization & creation of the activepivot session"
   ]
  },
  {
   "cell_type": "code",
   "execution_count": null,
   "metadata": {},
   "outputs": [],
   "source": [
    "import atoti as tt\n",
    "import numpy as np\n",
    "import pandas as pd\n",
    "\n",
    "session = tt.create_session()"
   ]
  },
  {
   "cell_type": "markdown",
   "metadata": {},
   "source": [
    "## 2. Creation of Stores"
   ]
  },
  {
   "cell_type": "code",
   "execution_count": null,
   "metadata": {},
   "outputs": [],
   "source": [
    "# types definition to correctly import data in stores\n",
    "resultsTypes = {\n",
    "    \"points\": tt.types.DOUBLE,\n",
    "}"
   ]
  },
  {
   "cell_type": "code",
   "execution_count": null,
   "metadata": {},
   "outputs": [],
   "source": [
    "sDrivers = session.read_csv(\"./f1db_csv/drivers.csv\", keys=[\"driverId\"], store_name=\"F1 drivers\")"
   ]
  },
  {
   "cell_type": "code",
   "execution_count": null,
   "metadata": {},
   "outputs": [],
   "source": [
    "#sRaces = session.read_csv(\"./races.csv\", keys=['raceId','circuitId','year'], store_name=\"F1 races\")\n",
    "sRaces = session.read_csv(\"./f1db_csv/races.csv\", keys=['raceId'], store_name=\"F1 races\")"
   ]
  },
  {
   "cell_type": "code",
   "execution_count": null,
   "metadata": {},
   "outputs": [],
   "source": [
    "#sResults = session.read_csv(\"./results.csv\", keys=['resultId','raceId','driverId'], store_name=\"F1 results\", types=resultsTypes)\n",
    "sResults = session.read_csv(\"./f1db_csv/results.csv\", keys=['resultId'], store_name=\"F1 results\", types=resultsTypes)"
   ]
  },
  {
   "cell_type": "code",
   "execution_count": null,
   "metadata": {},
   "outputs": [],
   "source": [
    "sDriverStandings = session.read_csv(\"./f1db_csv/driver_standings.csv\", keys=[\"driverStandingsId\"], store_name=\"F1 driver standings\")"
   ]
  },
  {
   "cell_type": "code",
   "execution_count": null,
   "metadata": {},
   "outputs": [],
   "source": [
    "print('Number of results: ',sResults.shape,'\\nNumber of driver_standings: ',sDriverStandings.shape)"
   ]
  },
  {
   "cell_type": "code",
   "execution_count": null,
   "metadata": {},
   "outputs": [],
   "source": [
    "sResults.join(sDrivers,mapping={\"driverId\":\"driverId\"})\n",
    "sResults.join(sRaces, mapping={\"raceId\": \"raceId\"})\n",
    "#sResults.head(joined_columns=True)"
   ]
  },
  {
   "cell_type": "code",
   "execution_count": null,
   "metadata": {},
   "outputs": [],
   "source": [
    "#sResults.head(joined_columns=True).columns"
   ]
  },
  {
   "cell_type": "code",
   "execution_count": null,
   "metadata": {},
   "outputs": [],
   "source": [
    "# joins between stores\n",
    "sDriverStandings.join(sDrivers,mapping={\"driverId\":\"driverId\"})\n",
    "sDriverStandings.join(sRaces, mapping={\"raceId\": \"raceId\"})"
   ]
  },
  {
   "cell_type": "code",
   "execution_count": null,
   "metadata": {},
   "outputs": [],
   "source": [
    "#load_all_data necessary otherwise stores are loaded with 10000 lines max\n",
    "session.load_all_data()"
   ]
  },
  {
   "cell_type": "code",
   "execution_count": null,
   "metadata": {},
   "outputs": [],
   "source": [
    "print('Number of results: ',sResults.shape,'\\nNumber of driver_standings: ',sDriverStandings.shape)"
   ]
  },
  {
   "cell_type": "markdown",
   "metadata": {},
   "source": [
    "## 3. Cube"
   ]
  },
  {
   "cell_type": "markdown",
   "metadata": {},
   "source": [
    "### Cube for Race results"
   ]
  },
  {
   "cell_type": "code",
   "execution_count": null,
   "metadata": {},
   "outputs": [],
   "source": [
    "f1cube= session.create_cube(sResults,\"F1Cube\")"
   ]
  },
  {
   "cell_type": "code",
   "execution_count": null,
   "metadata": {},
   "outputs": [],
   "source": [
    "l = f1cube.levels\n",
    "m = f1cube.measures\n",
    "h = f1cube.hierarchies"
   ]
  },
  {
   "cell_type": "code",
   "execution_count": null,
   "metadata": {},
   "outputs": [],
   "source": [
    "session.url"
   ]
  },
  {
   "cell_type": "markdown",
   "metadata": {},
   "source": [
    "### Cube for Driver standings"
   ]
  },
  {
   "cell_type": "code",
   "execution_count": null,
   "metadata": {},
   "outputs": [],
   "source": [
    "f1stdcube= session.create_cube(sDriverStandings,\"F1StdCube\")\n",
    "ls = f1stdcube.levels\n",
    "ms = f1stdcube.measures\n",
    "hs = f1stdcube.hierarchies"
   ]
  },
  {
   "cell_type": "markdown",
   "metadata": {},
   "source": [
    "## 4. First data visualization"
   ]
  },
  {
   "cell_type": "markdown",
   "metadata": {},
   "source": [
    "### dataviz1\n",
    "A simple data visualization showing a table with the total number of races by driver, sorted by descending 'count' field"
   ]
  },
  {
   "cell_type": "code",
   "execution_count": null,
   "metadata": {
    "activeviam": {
     "state": {
      "name": "Total number of races by driver",
      "type": "container",
      "value": {
       "body": {
        "configuration": {
         "tabular": {
          "columnOrder": {
           "args": {
            "orderedColumns": [
             "[Hierarchies].[driverRef].[driverRef]",
             "[Hierarchies].[driverId].[driverId]",
             "[Measures].[contributors.COUNT]"
            ]
           },
           "key": "explicit"
          },
          "columnsGroups": [
           {
            "captionProducer": "firstColumn",
            "cellFactory": "kpi-status",
            "selector": "kpi-status"
           },
           {
            "captionProducer": "firstColumn",
            "cellFactory": "lookup",
            "selector": "lookup"
           },
           {
            "captionProducer": "expiry",
            "cellFactory": "expiry",
            "selector": "kpi-expiry"
           }
          ],
          "defaultOptions": {},
          "hideAddButton": true,
          "lineNumbers": true,
          "sortingMode": "breaking",
          "statisticsShown": true
         }
        },
        "contextValues": {},
        "mdx": "WITH  Member [Measures].[[Hierarchies]].[driverRef]].[driverRef]]_for_order] AS [Hierarchies].[driverRef].CurrentMember.MEMBER_VALUE  SELECT NON EMPTY Order(Crossjoin([Hierarchies].[driverRef].[driverRef].Members, [Hierarchies].[driverId].[driverId].Members), [Measures].[contributors.COUNT], BDESC) ON ROWS, [Measures].[contributors.COUNT] ON COLUMNS FROM [F1Cube] CELL PROPERTIES BACK_COLOR, FONT_FLAGS, FORE_COLOR, FORMATTED_VALUE, VALUE",
        "ranges": {
         "column": {
          "chunkSize": 50,
          "thresholdPercentage": 0.2
         },
         "row": {
          "chunkSize": 2000,
          "thresholdPercentage": 0.1
         }
        },
        "serverUrl": "",
        "updateMode": "once"
       },
       "containerKey": "tabular-view",
       "showTitleBar": false,
       "style": {}
      }
     }
    },
    "atoti": {
     "state": {
      "name": "Total number of races by driver",
      "type": "container",
      "value": {
       "body": {
        "configuration": {
         "tabular": {
          "columnOrder": {
           "args": {
            "orderedColumns": [
             "__lineNumber__",
             "[Hierarchies].[driverRef].[driverRef]",
             "[Hierarchies].[driverId].[driverId]",
             "[Measures].[contributors.COUNT]"
            ]
           },
           "key": "explicit"
          },
          "columns": [
           {
            "headerbgColor": "rgb(67, 67, 67)",
            "headerfgColor": "rgb(255, 255, 255)",
            "key": "[Hierarchies].[driverRef].[driverRef]"
           },
           {
            "headerbgColor": "rgb(102, 102, 102)",
            "headerfgColor": "rgb(255, 255, 255)",
            "key": "[Hierarchies].[driverId].[driverId]"
           },
           {
            "headerbgColor": "rgb(102, 102, 102)",
            "headerfgColor": "rgb(255, 255, 255)",
            "key": "[Measures].[contributors.COUNT]"
           }
          ],
          "columnsGroups": [
           {
            "captionProducer": "firstColumn",
            "cellFactory": "kpi-status",
            "selector": "kpi-status"
           },
           {
            "captionProducer": "firstColumn",
            "cellFactory": "lookup",
            "selector": "lookup"
           },
           {
            "captionProducer": "expiry",
            "cellFactory": "expiry",
            "selector": "kpi-expiry"
           }
          ],
          "defaultOptions": {},
          "hideAddButton": true,
          "lineNumbers": true,
          "sortingMode": "breaking",
          "statisticsShown": true
         }
        },
        "contextValues": {},
        "mdx": "SELECT NON EMPTY Order(Crossjoin([Hierarchies].[driverRef].[driverRef].Members, [Hierarchies].[driverId].[driverId].Members), [Measures].[contributors.COUNT], BDESC) ON ROWS, [Measures].[contributors.COUNT] ON COLUMNS FROM [F1Cube] CELL PROPERTIES VALUE, FORMATTED_VALUE, BACK_COLOR, FORE_COLOR, FONT_FLAGS",
        "ranges": {
         "column": {
          "chunkSize": 50,
          "thresholdPercentage": 0.2
         },
         "row": {
          "chunkSize": 2000,
          "thresholdPercentage": 0.1
         }
        },
        "serverUrl": "http://localhost:63719",
        "updateMode": "once"
       },
       "containerKey": "tabular-view",
       "showTitleBar": false,
       "style": {}
      }
     }
    }
   },
   "outputs": [],
   "source": [
    "f1cube.visualize('Total number of races by driver')"
   ]
  },
  {
   "cell_type": "code",
   "execution_count": null,
   "metadata": {
    "atoti": {
     "state": {
      "name": "Total number of points by driver / treemap",
      "type": "container",
      "value": {
       "body": {
        "configuration": {
         "mapping": {
          "splitBy": [
           "[Hierarchies].[driverRef].[driverRef]"
          ],
          "values": [
           "[Measures].[points.SUM]"
          ]
         },
         "type": "plotly-tree-map"
        },
        "query": {
         "mdx": "SELECT NON EMPTY [Hierarchies].[driverRef].[driverRef].Members ON ROWS, NON EMPTY [Measures].[points.SUM] ON COLUMNS FROM [F1Cube] CELL PROPERTIES VALUE, FORMATTED_VALUE, BACK_COLOR, FORE_COLOR, FONT_FLAGS",
         "serverUrl": "",
         "updateMode": "once"
        }
       },
       "containerKey": "chart",
       "showTitleBar": false,
       "style": {}
      }
     }
    }
   },
   "outputs": [],
   "source": [
    "f1cube.visualize('Total number of points by driver / treemap')"
   ]
  },
  {
   "cell_type": "markdown",
   "metadata": {},
   "source": [
    "## 5 Measures and first queries"
   ]
  },
  {
   "cell_type": "code",
   "execution_count": null,
   "metadata": {},
   "outputs": [],
   "source": [
    "# Definition of the measure aggregating the number of points on 2 particular levels: races and drivers\n",
    "m['Total Points']=tt.agg.sum(m['points.SUM'],scope=tt.scope.origin(\"driverId\",\"raceId\"))"
   ]
  },
  {
   "cell_type": "markdown",
   "metadata": {},
   "source": [
    "### query1\n",
    "A simple query that returns a dataframe with the total number of points aggregated by driver forname,surname"
   ]
  },
  {
   "cell_type": "code",
   "execution_count": null,
   "metadata": {},
   "outputs": [],
   "source": [
    "dfq1=f1cube.query(m['Total Points'],levels=[l[\"forename\"],l[\"surname\"]])\n",
    "dfq1"
   ]
  },
  {
   "cell_type": "markdown",
   "metadata": {},
   "source": [
    "### query2\n",
    "A similar query with the addition of the condition parameters, used as a filter on levels (not possible as of today on the measure)"
   ]
  },
  {
   "cell_type": "code",
   "execution_count": null,
   "metadata": {},
   "outputs": [],
   "source": [
    "dfq2=f1cube.query(m['Total Points'],levels=[l[\"forename\"],l[\"surname\"]],condition=l[\"surname\"]==\"Prost\")\n",
    "dfq2\n",
    "# check data here: https://www.statsf1.com/en/alain-prost.aspx"
   ]
  },
  {
   "cell_type": "markdown",
   "metadata": {},
   "source": [
    "### query3\n",
    "Another query returning a datafram aggregating the Total points mesaure by driver and by year"
   ]
  },
  {
   "cell_type": "code",
   "execution_count": null,
   "metadata": {},
   "outputs": [],
   "source": [
    "#dfq3 = f1cube.query(m['Total Points'],levels=[l[\"driverRef\"],l[\"driverForename\"],l[\"driverSurname\"],l[\"year\"]])\n",
    "dfq3 = f1cube.query(m['Total Points'],levels=[l[\"driverRef\"],l[\"year\"]])\n",
    "dfq3"
   ]
  },
  {
   "cell_type": "code",
   "execution_count": null,
   "metadata": {},
   "outputs": [],
   "source": [
    "# You can then manipulate your dataframe like any other pandas dataframe, applying filtrer for example\n",
    "#type(dfq3)\n",
    "#dfq3.keys\n",
    "dfq3[dfq3['Total Points']>0]"
   ]
  },
  {
   "cell_type": "code",
   "execution_count": null,
   "metadata": {},
   "outputs": [],
   "source": [
    "# in this case the resulting dataframe is multiindexed\n",
    "dfq3.loc[\"alesi\"].loc[1990]['Total Points']"
   ]
  },
  {
   "cell_type": "markdown",
   "metadata": {},
   "source": [
    "### dataviz2\n",
    "Data visualization of the top-5 drivers with the highest total of points in their whole career"
   ]
  },
  {
   "cell_type": "code",
   "execution_count": null,
   "metadata": {
    "activeviam": {
     "state": {
      "name": "TOP-5 drivers with highest total points in career",
      "type": "container",
      "value": {
       "body": {
        "configuration": {
         "mapping": {
          "splitBy": [
           "[Hierarchies].[driverRef].[driverRef]"
          ],
          "values": [
           "[Measures].[Total Points]"
          ]
         },
         "plotly": {
          "layout": {
           "yaxis": {
            "categoryorder": "total ascending"
           }
          }
         },
         "switchedTo": "plotly-clustered-bar-chart",
         "type": "plotly-tree-map"
        },
        "query": {
         "mdx": "SELECT NON EMPTY [Hierarchies].[driverRef].[driverRef].Members ON ROWS, NON EMPTY [Measures].[Total Points] ON COLUMNS FROM (SELECT TopCount(Filter([Hierarchies].[driverRef].Levels(1).Members, NOT IsEmpty([Measures].[Total Points])), 5, [Measures].[Total Points]) ON COLUMNS FROM [F1Cube]) CELL PROPERTIES VALUE, FORMATTED_VALUE, BACK_COLOR, FORE_COLOR, FONT_FLAGS",
         "serverUrl": "",
         "updateMode": "once"
        }
       },
       "containerKey": "chart",
       "showTitleBar": false,
       "style": {}
      }
     }
    },
    "atoti": {
     "state": {
      "name": "TOP-5 drivers with highest total points in career",
      "type": "container",
      "value": {
       "body": {
        "configuration": {
         "mapping": {
          "horizontal": [],
          "splitBy": [],
          "values": [
           "[Measures].[Total Points]"
          ],
          "vertical": [],
          "xAxis": [
           "[Hierarchies].[driverRef].[driverRef]"
          ]
         },
         "plotly": {
          "layout": {
           "yaxis": {
            "categoryorder": "total ascending"
           }
          }
         },
         "switchedTo": "plotly-clustered-bar-chart",
         "type": "plotly-line-chart"
        },
        "query": {
         "mdx": "SELECT NON EMPTY [Measures].[Total Points] ON COLUMNS, NON EMPTY [Hierarchies].[driverRef].[driverRef].Members ON ROWS FROM (SELECT TopCount(Filter([Hierarchies].[driverRef].Levels(1).Members, NOT IsEmpty([Measures].[Total Points])), 5, [Measures].[Total Points]) ON COLUMNS FROM [F1Cube]) CELL PROPERTIES VALUE, FORMATTED_VALUE, BACK_COLOR, FORE_COLOR, FONT_FLAGS",
         "serverUrl": "http://localhost:63719",
         "updateMode": "once"
        }
       },
       "containerKey": "chart",
       "showTitleBar": false,
       "style": {}
      }
     }
    }
   },
   "outputs": [],
   "source": [
    "f1cube.visualize('TOP-5 drivers with highest total points in career')\n",
    "\n",
    "## check here in the widget configuration the \"TopCount\" filter used to select only the top-5\n",
    "## check here the cell metadata to sort the data in the chart\n",
    "    #     \"plotly\": {\n",
    "    #         \"layout\": {\n",
    "    #             \"yaxis\": {\n",
    "    #                 \"categoryorder\": \"total ascending\"\n",
    "    #             }\n",
    "    #         }\n",
    "    #     },"
   ]
  },
  {
   "cell_type": "markdown",
   "metadata": {},
   "source": [
    "### preparation of the world champions dataframe "
   ]
  },
  {
   "cell_type": "code",
   "execution_count": null,
   "metadata": {},
   "outputs": [],
   "source": [
    "dfwc = pd.DataFrame(index=range(1950,2020),columns=['driverRef','Total Points'])"
   ]
  },
  {
   "cell_type": "code",
   "execution_count": null,
   "metadata": {},
   "outputs": [],
   "source": [
    "f1stdcube.query(ms[\"contributors.COUNT\"],levels=[ls[\"year\"],ls[\"raceId\"],ls[\"driverRef\"]])"
   ]
  },
  {
   "cell_type": "code",
   "execution_count": null,
   "metadata": {},
   "outputs": [],
   "source": [
    "for i in range(1950,2020):\n",
    "    dfstd=f1stdcube.query(ms[\"contributors.COUNT\"],levels=[ls[\"year\"],ls[\"raceId\"],ls[\"driverRef\"],ls[\"position\"]],condition=(ls[\"position\"]==\"1\") & (ls[\"year\"]==str(i)))\n",
    "    dfwc.loc[i]['driverRef']=dfstd.loc[i].loc[dfstd.index.get_level_values('raceId').unique().max()].index.get_level_values('driverRef').tolist()[0]"
   ]
  },
  {
   "cell_type": "code",
   "execution_count": null,
   "metadata": {},
   "outputs": [],
   "source": [
    "dfwc"
   ]
  },
  {
   "cell_type": "markdown",
   "metadata": {},
   "source": [
    "## 6. Simulations\n",
    "Variation of points scoring rule in F1 history  \n",
    "[EN version](https://en.wikipedia.org/wiki/List_of_Formula_One_World_Championship_points_scoring_systems)  \n",
    "[FR version](https://fr.wikipedia.org/wiki/Classement_des_pilotes_de_Formule_1_par_nombre_de_points#%C3%89volution_de_l'attribution_des_points_au_cours_du_temps)"
   ]
  },
  {
   "cell_type": "markdown",
   "metadata": {},
   "source": [
    "### Preparation of a dataframe for the different scoring systems"
   ]
  },
  {
   "cell_type": "code",
   "execution_count": null,
   "metadata": {},
   "outputs": [],
   "source": [
    "# index = race year, 1 column for each position, values are the number of points scored for the race position\n",
    "scoring_columns = np.arange(1,41)\n",
    "scoring_index = ('sc1950to1959fl sc1960 sc1961to1990 sc1991to2002 sc2003to2009 sc2010to2013 sc2014lr sc2015to2018 sc2019fl').split()"
   ]
  },
  {
   "cell_type": "code",
   "execution_count": null,
   "metadata": {},
   "outputs": [],
   "source": [
    "dfscoring = pd.DataFrame(0,index=scoring_index,columns=scoring_columns)"
   ]
  },
  {
   "cell_type": "code",
   "execution_count": null,
   "metadata": {},
   "outputs": [],
   "source": [
    "# before 1991, the calculation rule is not a simple aggregation given that only the Nth best race results were retained...\n",
    "# dfscoring.loc['sc1950to1959fl'][1,2,3,4,5] = [8,6,4,3,2] #fastest lap bonus +1 point\n",
    "# dfscoring.loc['sc1960'][1,2,3,4,5,6] = [8,6,4,3,2,1]\n",
    "# dfscoring.loc['sc1961to1990'][1,2,3,4,5,6] = [9,6,4,3,2,1]\n",
    "dfscoring.loc['sc1991to2002'][1,2,3,4,5,6] = [10,6,4,3,2,1]\n",
    "dfscoring.loc['sc2003to2009'][1,2,3,4,5,6,7,8] = [10,8,6,5,4,3,2,1]\n",
    "dfscoring.loc['sc2010to2013'][1,2,3,4,5,6,7,8,9,10] = [25,18,15,12,10,8,6,4,2,1]\n",
    "# dfscoring.loc['sc2014lr'][1,2,3,4,5,6,7,8,9,10] = [25,18,15,12,10,8,6,4,2,1] #last race bonus double points\n",
    "dfscoring.loc['sc2015to2018'] = dfscoring.loc['sc2010to2013']\n",
    "# dfscoring.loc['sc2019fl'] = dfscoring.loc['sc2010to2013'] #fastest lap bonus +1 point"
   ]
  },
  {
   "cell_type": "code",
   "execution_count": null,
   "metadata": {},
   "outputs": [],
   "source": [
    "#dfscoring.loc['sc2015to2018'][1]\n",
    "dfscoring"
   ]
  },
  {
   "cell_type": "markdown",
   "metadata": {},
   "source": [
    "### Simulation on points"
   ]
  },
  {
   "cell_type": "code",
   "execution_count": null,
   "metadata": {},
   "outputs": [],
   "source": [
    "# Creation of simulation\n",
    "pointssystem_sim = f1cube.setup_simulation('pointssystem_sim', per=[l[\"positionText\"]], replace=[m[\"points.SUM\"]], base_scenario_name = 'Base')"
   ]
  },
  {
   "cell_type": "code",
   "execution_count": null,
   "metadata": {},
   "outputs": [],
   "source": [
    "# Creation of the different scenarios\n",
    "sc2015to2018_scenario = pointssystem_sim.scenarios['System 2015 to 2018']\n",
    "sc1991to2002_scenario = pointssystem_sim.scenarios['System 1991 to 2002']\n",
    "sc2003to2009_scenario = pointssystem_sim.scenarios['System 2003 to 2009']"
   ]
  },
  {
   "cell_type": "code",
   "execution_count": null,
   "metadata": {},
   "outputs": [],
   "source": [
    "# Feed of the different scenarios with points from related scoring systems\n",
    "for i in range(1,11):\n",
    "    x=float(dfscoring.loc[\"sc2015to2018\"][i])\n",
    "    sc2015to2018_scenario += (str(i), x, tt.simulation.Priority.CRITICAL)\n",
    "    \n",
    "    x=float(dfscoring.loc[\"sc1991to2002\"][i])\n",
    "    sc1991to2002_scenario += (str(i), x, tt.simulation.Priority.CRITICAL)\n",
    "    \n",
    "    x=float(dfscoring.loc[\"sc2003to2009\"][i])\n",
    "    sc2003to2009_scenario += (str(i), x, tt.simulation.Priority.CRITICAL)"
   ]
  },
  {
   "cell_type": "code",
   "execution_count": null,
   "metadata": {},
   "outputs": [],
   "source": [
    "sc2015to2018_scenario.head(10)\n",
    "#sc1991to2002_scenario.head(10)\n",
    "#sc2003to2009_scenario.head(10)"
   ]
  },
  {
   "cell_type": "code",
   "execution_count": null,
   "metadata": {},
   "outputs": [],
   "source": [
    "# query4bis\n",
    "# Construction of the base query to feed the champonship winners dataframe based on scenarios\n",
    "dfq4b = f1cube.query(m['Total Points'],levels=[l[\"year\"],l[\"pointssystem_sim\"],l[\"driverRef\"]])\n",
    "#dfq4b"
   ]
  },
  {
   "cell_type": "code",
   "execution_count": null,
   "metadata": {},
   "outputs": [],
   "source": [
    "# preparation of the world champions dataframe comparison between scenarios\n",
    "dfwc_comparison = pd.DataFrame(index=range(1950,2020),columns=['Base Champion','sc2015to2018 Champion','sc2015to2018','sc1991to2002 Champion','sc1991to2002','sc2003to2009 Champion','sc2003to2009'])"
   ]
  },
  {
   "cell_type": "code",
   "execution_count": null,
   "metadata": {},
   "outputs": [],
   "source": [
    "#### \"BASE\" CALCULATIONS ARE INCORRECT for championships before 1991 because not all results were considered...\n",
    "# Example: in 1988, only the 11 best results were considered, meaning that Senna became WC, even if Prost had scored more points...\n",
    "dfq4b.loc[1988].loc['Base'].sort_values(by=['Total Points'], ascending=False)"
   ]
  },
  {
   "cell_type": "code",
   "execution_count": null,
   "metadata": {},
   "outputs": [],
   "source": [
    "for i in range(1950,2020):\n",
    "    dfwc_drv = dfwc.loc[i]['driverRef']\n",
    "    xsim1 = dfq4b.loc[i].loc['System 2015 to 2018'].sort_values(by=['Total Points'], ascending=False).iloc[0].head(1)\n",
    "    xsim2 = dfq4b.loc[i].loc['System 1991 to 2002'].sort_values(by=['Total Points'], ascending=False).iloc[0].head(1)\n",
    "    xsim3 = dfq4b.loc[i].loc['System 2003 to 2009'].sort_values(by=['Total Points'], ascending=False).iloc[0].head(1)\n",
    "    dfwc_comparison.loc[i]=[dfwc_drv,xsim1.name,dfwc_drv == xsim1.name,xsim2.name,dfwc_drv == xsim2.name,xsim3.name,dfwc_drv == xsim3.name]\n",
    "dfwc_comparison"
   ]
  },
  {
   "cell_type": "markdown",
   "metadata": {},
   "source": [
    "## 7. Presentation of the results of the different scenarios compared to the historical results: chamionship winners!"
   ]
  },
  {
   "cell_type": "markdown",
   "metadata": {},
   "source": [
    "### Comparison of the results using scoring system in effect between 2015 and 2018"
   ]
  },
  {
   "cell_type": "code",
   "execution_count": null,
   "metadata": {},
   "outputs": [],
   "source": [
    "# list of different WC using sc2015to2018 vs. Base\n",
    "dfwc_comparison.loc[range(1950,2020)][['Base Champion','sc2015to2018 Champion']][dfwc_comparison['sc2015to2018']==False]"
   ]
  },
  {
   "cell_type": "markdown",
   "metadata": {},
   "source": [
    "### Comparison of the results using scoring system in effect between 1991 and 2002"
   ]
  },
  {
   "cell_type": "code",
   "execution_count": null,
   "metadata": {},
   "outputs": [],
   "source": [
    "# list of different WC using sc1991to2002 vs. Base\n",
    "dfwc_comparison.loc[range(1950,2020)][['Base Champion','sc1991to2002 Champion']][dfwc_comparison['sc1991to2002']==False]"
   ]
  },
  {
   "cell_type": "markdown",
   "metadata": {},
   "source": [
    "### Comparison of the results using scoring system in effect between 2003 and 2009"
   ]
  },
  {
   "cell_type": "code",
   "execution_count": null,
   "metadata": {},
   "outputs": [],
   "source": [
    "# list of different WC using sc2003to2009 vs. Base\n",
    "dfwc_comparison.loc[range(1950,2020)][['Base Champion','sc2003to2009 Champion']][dfwc_comparison['sc2003to2009']==False]"
   ]
  },
  {
   "cell_type": "markdown",
   "metadata": {},
   "source": [
    "## 8. Charts"
   ]
  },
  {
   "cell_type": "markdown",
   "metadata": {},
   "source": [
    "### Showing the differences for the race result of a famous GP, Brazil 2008\n",
    "Where we see how the 1991-2002 scoring systems makes a big difference between chamionship rivals Massa & Hamilton\n",
    "See race summary here :https://www.youtube.com/watch?v=XHSeGou-pCI ;)"
   ]
  },
  {
   "cell_type": "code",
   "execution_count": null,
   "metadata": {
    "activeviam": {
     "state": {
      "name": "Base vs. Simulation - Brazil 2008",
      "type": "container",
      "value": {
       "body": {
        "configuration": {
         "tabular": {
          "addButtonFilter": "numeric",
          "columnOrder": {
           "args": {
            "orderedColumns": [
             "__lineNumber__",
             "c-treeCells-member",
             "([Measure Simulations].[pointssystem_sim].[pointssystem_sim].[Base],[Measures].[Total Points])",
             "([Measure Simulations].[pointssystem_sim].[pointssystem_sim].[System 2015 to 2018],[Measures].[Total Points])"
            ]
           },
           "key": "explicit"
          },
          "columns": [
           {
            "key": "([Measure Simulations].[pointssystem_sim].[pointssystem_sim].[System 2015 to 2018],[Measures].[Total Points])",
            "width": 159
           },
           {
            "key": "c-treeCells-member",
            "width": 319
           },
           {
            "key": "([Measure Simulations].[pointssystem_sim].[pointssystem_sim].[System 2003 to 2009],[Measures].[Total Points])",
            "width": 180
           },
           {
            "key": "([Measure Simulations].[pointssystem_sim].[pointssystem_sim].[System 1991 to 2002],[Measures].[Total Points])",
            "width": 157
           }
          ],
          "columnsGroups": [
           {
            "captionProducer": "firstColumn",
            "cellFactory": "kpi-status",
            "selector": "kpi-status"
           },
           {
            "captionProducer": "firstColumn",
            "cellFactory": "lookup",
            "selector": "lookup"
           },
           {
            "captionProducer": "expiry",
            "cellFactory": "expiry",
            "selector": "kpi-expiry"
           },
           {
            "captionProducer": "columnMerge",
            "cellFactory": {
             "args": {
              "automaticExpansion": true
             },
             "key": "treeCells"
            },
            "selector": "member"
           }
          ],
          "defaultOptions": {},
          "hideAddButton": true,
          "lineNumbers": true,
          "pinnedHeaderSelector": "member",
          "sortingMode": "non-breaking",
          "statisticsShown": true
         }
        },
        "contextValues": {
         "F1Cube": {
          "mdx.hiddengrandtotals": "1"
         }
        },
        "mdx": "SELECT NON EMPTY Crossjoin(Hierarchize([Measure Simulations].[pointssystem_sim].[pointssystem_sim].Members), [Measures].[Total Points]) ON COLUMNS, NON EMPTY Order(DrilldownLevel([Hierarchies].[driverRef].[ALL].[AllMember]), ([Measure Simulations].[pointssystem_sim].[pointssystem_sim].[System 2015 to 2018], [Measures].[Total Points]), DESC) ON ROWS FROM [F1Cube] WHERE ([Hierarchies].[name].[ALL].[AllMember].[Brazilian Grand Prix], [Hierarchies].[year].[ALL].[AllMember].[2008]) CELL PROPERTIES VALUE, FORMATTED_VALUE, BACK_COLOR, FORE_COLOR, FONT_FLAGS",
        "ranges": {
         "column": {
          "chunkSize": 50,
          "thresholdPercentage": 0.2
         },
         "row": {
          "chunkSize": 2000,
          "thresholdPercentage": 0.1
         }
        },
        "serverUrl": "",
        "updateMode": "once"
       },
       "containerKey": "pivot-table",
       "showTitleBar": false,
       "style": {}
      }
     }
    },
    "atoti": {
     "state": {
      "name": "Base vs. Simulation - Brazil 2008",
      "type": "container",
      "value": {
       "body": {
        "configuration": {
         "tabular": {
          "addButtonFilter": "numeric",
          "columnsGroups": [
           {
            "captionProducer": "firstColumn",
            "cellFactory": "kpi-status",
            "selector": "kpi-status"
           },
           {
            "captionProducer": "firstColumn",
            "cellFactory": "lookup",
            "selector": "lookup"
           },
           {
            "captionProducer": "expiry",
            "cellFactory": "expiry",
            "selector": "kpi-expiry"
           },
           {
            "captionProducer": "columnMerge",
            "cellFactory": {
             "args": {
              "automaticExpansion": true
             },
             "key": "treeCells"
            },
            "selector": "member"
           }
          ],
          "defaultOptions": {},
          "hideAddButton": true,
          "lineNumbers": true,
          "pinnedHeaderSelector": "member",
          "sortingMode": "non-breaking",
          "statisticsShown": true
         }
        },
        "contextValues": {
         "F1Cube": {
          "mdx.hiddengrandtotals": "1"
         }
        },
        "mdx": "SELECT NON EMPTY Crossjoin([Measure Simulations].[pointssystem_sim].[pointssystem_sim].Members, [Measures].[Total Points]) ON COLUMNS, NON EMPTY Order(DrilldownLevel([Hierarchies].[driverRef].[ALL].[AllMember]), ([Measure Simulations].[pointssystem_sim].[pointssystem_sim].[Base], [Measures].[Total Points]), DESC) ON ROWS FROM [F1Cube] WHERE ([Hierarchies].[year].[ALL].[AllMember].[2008], [Hierarchies].[name].[ALL].[AllMember].[Brazilian Grand Prix]) CELL PROPERTIES VALUE, FORMATTED_VALUE, BACK_COLOR, FORE_COLOR, FONT_FLAGS",
        "ranges": {
         "column": {
          "chunkSize": 50,
          "thresholdPercentage": 0.2
         },
         "row": {
          "chunkSize": 2000,
          "thresholdPercentage": 0.1
         }
        },
        "serverUrl": "http://localhost:63719",
        "updateMode": "once"
       },
       "containerKey": "pivot-table",
       "showTitleBar": false,
       "style": {}
      }
     }
    }
   },
   "outputs": [],
   "source": [
    "f1cube.visualize('Base vs. Simulation - Brazil 2008')"
   ]
  },
  {
   "cell_type": "markdown",
   "metadata": {},
   "source": [
    "### Showing the differences for the 2008 world championship result\n",
    "Would Felipe Massa have become world champ in 2008 with the 1991-2002 scoring system?? YES!"
   ]
  },
  {
   "cell_type": "code",
   "execution_count": null,
   "metadata": {
    "activeviam": {
     "height": 530,
     "state": {
      "name": "Base vs. Simulation System 1991 to 2002 - 2008 Championship",
      "type": "container",
      "value": {
       "body": {
        "configuration": {
         "mapping": {
          "horizontal": [],
          "splitBy": [
           "[Measure Simulations].[pointssystem_sim].[pointssystem_sim]"
          ],
          "values": [
           "[Measures].[Total Points]"
          ],
          "vertical": [],
          "xAxis": [
           "[Hierarchies].[driverRef].[driverRef]"
          ]
         },
         "plotly": {
          "layout": {
           "xaxis": {
            "title": {
             "text": "Total points"
            }
           },
           "yaxis": {
            "categoryorder": "total ascending",
            "title": {
             "text": "Drivers"
            }
           }
          }
         },
         "switchedTo": "plotly-clustered-bar-chart",
         "type": "plotly-clustered-column-chart"
        },
        "query": {
         "mdx": "SELECT NON EMPTY [Measures].[Total Points] ON COLUMNS, NON EMPTY Crossjoin([Hierarchies].[driverRef].[driverRef].Members, [Measure Simulations].[pointssystem_sim].[pointssystem_sim].Members) ON ROWS FROM (SELECT TopCount(Filter([Hierarchies].[driverRef].Levels(1).Members, NOT IsEmpty([Measures].[Total Points])), 10, [Measures].[Total Points]) ON COLUMNS FROM (SELECT {[Measure Simulations].[pointssystem_sim].[pointssystem_sim].[Base], [Measure Simulations].[pointssystem_sim].[pointssystem_sim].[System 1991 to 2002]} ON COLUMNS FROM [F1Cube] WHERE [Hierarchies].[year].[ALL].[AllMember].[2008]) WHERE [Hierarchies].[year].[ALL].[AllMember].[2008]) WHERE [Hierarchies].[year].[ALL].[AllMember].[2008] CELL PROPERTIES VALUE, FORMATTED_VALUE, BACK_COLOR, FORE_COLOR, FONT_FLAGS",
         "serverUrl": "",
         "updateMode": "once"
        }
       },
       "containerKey": "chart",
       "showTitleBar": true,
       "style": {}
      }
     }
    },
    "atoti": {
     "height": 510,
     "state": {
      "name": "Base vs. Simulation System 1991 to 2002 - 2008 Championship",
      "type": "container",
      "value": {
       "body": {
        "configuration": {
         "mapping": {
          "horizontal": [],
          "splitBy": [
           "[Measure Simulations].[pointssystem_sim].[pointssystem_sim]"
          ],
          "values": [
           "[Measures].[Total Points]"
          ],
          "vertical": [],
          "xAxis": [
           "[Hierarchies].[driverRef].[driverRef]"
          ]
         },
         "plotly": {
          "layout": {
           "yaxis": {
            "categoryorder": "total ascending"
           }
          }
         },
         "switchedTo": "plotly-clustered-bar-chart",
         "type": "plotly-line-chart"
        },
        "query": {
         "mdx": "SELECT NON EMPTY [Measures].[Total Points] ON COLUMNS, NON EMPTY Crossjoin([Hierarchies].[driverRef].[driverRef].Members, [Measure Simulations].[pointssystem_sim].[pointssystem_sim].Members) ON ROWS FROM (SELECT {[Measure Simulations].[pointssystem_sim].[pointssystem_sim].[Base], [Measure Simulations].[pointssystem_sim].[pointssystem_sim].[System 1991 to 2002]} ON COLUMNS FROM (SELECT Filter([Hierarchies].[driverRef].[driverRef].Members, [Measures].[Total Points] > 0) ON COLUMNS FROM [F1Cube] WHERE [Hierarchies].[year].[ALL].[AllMember].[2008]) WHERE [Hierarchies].[year].[ALL].[AllMember].[2008]) WHERE [Hierarchies].[year].[ALL].[AllMember].[2008] CELL PROPERTIES VALUE, FORMATTED_VALUE, BACK_COLOR, FORE_COLOR, FONT_FLAGS",
         "serverUrl": "http://localhost:63719",
         "updateMode": "once"
        }
       },
       "containerKey": "chart",
       "showTitleBar": false,
       "style": {}
      }
     }
    }
   },
   "outputs": [],
   "source": [
    "# chart\n",
    "f1cube.visualize('Base vs. Simulation System 1991 to 2002 - 2008 Championship')"
   ]
  },
  {
   "cell_type": "code",
   "execution_count": null,
   "metadata": {
    "activeviam": {
     "state": {
      "name": "Base vs. Simulation - 2008 Championship table",
      "type": "container",
      "value": {
       "body": {
        "configuration": {
         "tabular": {
          "addButtonFilter": "numeric",
          "columns": [
           {
            "key": "([Measure Simulations].[pointssystem_sim].[pointssystem_sim].[System 1991 to 2002],[Measures].[Total Points])",
            "width": 152
           },
           {
            "key": "([Measure Simulations].[pointssystem_sim].[pointssystem_sim].[System 2003 to 2009],[Measures].[Total Points])",
            "width": 165
           },
           {
            "key": "([Measure Simulations].[pointssystem_sim].[pointssystem_sim].[System 2015 to 2018],[Measures].[Total Points])",
            "width": 169
           }
          ],
          "columnsGroups": [
           {
            "captionProducer": "firstColumn",
            "cellFactory": "kpi-status",
            "selector": "kpi-status"
           },
           {
            "captionProducer": "firstColumn",
            "cellFactory": "lookup",
            "selector": "lookup"
           },
           {
            "captionProducer": "expiry",
            "cellFactory": "expiry",
            "selector": "kpi-expiry"
           },
           {
            "captionProducer": "columnMerge",
            "cellFactory": {
             "args": {
              "automaticExpansion": true
             },
             "key": "treeCells"
            },
            "selector": "member"
           }
          ],
          "defaultOptions": {},
          "hideAddButton": true,
          "lineNumbers": true,
          "pinnedHeaderSelector": "member",
          "sortingMode": "non-breaking",
          "statisticsShown": true
         }
        },
        "contextValues": {
         "F1Cube": {
          "mdx.hiddengrandtotals": "1"
         }
        },
        "mdx": "SELECT NON EMPTY Order(Order(Hierarchize(DrilldownLevel([Hierarchies].[driverRef].[ALL].[AllMember])), ([Hierarchies].[raceId].[ALL].[AllMember].[18], [Measure Simulations].[pointssystem_sim].[pointssystem_sim].[System 2015 to 2018], [Measures].[points.SUM]), DESC), ([Measure Simulations].[pointssystem_sim].[pointssystem_sim].[System 2015 to 2018], [Measures].[Total Points]), DESC) ON ROWS, NON EMPTY Crossjoin(Hierarchize([Measure Simulations].[pointssystem_sim].[pointssystem_sim].Members), [Measures].[Total Points]) ON COLUMNS FROM [F1Cube] WHERE [Hierarchies].[year].[ALL].[AllMember].[2008] CELL PROPERTIES VALUE, FORMATTED_VALUE, BACK_COLOR, FORE_COLOR, FONT_FLAGS",
        "ranges": {
         "column": {
          "chunkSize": 50,
          "thresholdPercentage": 0.2
         },
         "row": {
          "chunkSize": 2000,
          "thresholdPercentage": 0.1
         }
        },
        "serverUrl": "",
        "updateMode": "once"
       },
       "containerKey": "pivot-table",
       "showTitleBar": false,
       "style": {}
      }
     }
    },
    "atoti": {
     "state": {
      "name": "Base vs. Simulation - 2008 Championship table",
      "type": "container",
      "value": {
       "body": {
        "configuration": {
         "tabular": {
          "addButtonFilter": "numeric",
          "columnsGroups": [
           {
            "captionProducer": "firstColumn",
            "cellFactory": "kpi-status",
            "selector": "kpi-status"
           },
           {
            "captionProducer": "firstColumn",
            "cellFactory": "lookup",
            "selector": "lookup"
           },
           {
            "captionProducer": "expiry",
            "cellFactory": "expiry",
            "selector": "kpi-expiry"
           },
           {
            "captionProducer": "columnMerge",
            "cellFactory": {
             "args": {
              "automaticExpansion": true
             },
             "key": "treeCells"
            },
            "selector": "member"
           }
          ],
          "defaultOptions": {},
          "hideAddButton": true,
          "lineNumbers": true,
          "pinnedHeaderSelector": "member",
          "sortingMode": "non-breaking",
          "statisticsShown": true
         }
        },
        "contextValues": {
         "F1Cube": {
          "mdx.hiddengrandtotals": "1"
         }
        },
        "mdx": "SELECT NON EMPTY Crossjoin([Measure Simulations].[pointssystem_sim].[pointssystem_sim].Members, [Measures].[Total Points]) ON COLUMNS, NON EMPTY Order(DrilldownLevel([Hierarchies].[driverRef].[ALL].[AllMember]), ([Measure Simulations].[pointssystem_sim].[pointssystem_sim].[System 1991 to 2002], [Measures].[Total Points]), DESC) ON ROWS FROM [F1Cube] WHERE [Hierarchies].[year].[ALL].[AllMember].[2008] CELL PROPERTIES VALUE, FORMATTED_VALUE, BACK_COLOR, FORE_COLOR, FONT_FLAGS",
        "ranges": {
         "column": {
          "chunkSize": 50,
          "thresholdPercentage": 0.2
         },
         "row": {
          "chunkSize": 2000,
          "thresholdPercentage": 0.1
         }
        },
        "serverUrl": "http://localhost:63719",
        "updateMode": "once"
       },
       "containerKey": "pivot-table",
       "showTitleBar": false,
       "style": {}
      }
     }
    }
   },
   "outputs": [],
   "source": [
    "# 2008 championship standings table\n",
    "f1cube.visualize('Base vs. Simulation - 2008 Championship table')"
   ]
  },
  {
   "cell_type": "markdown",
   "metadata": {},
   "source": [
    "## THE END!"
   ]
  }
 ],
 "metadata": {
  "kernelspec": {
   "display_name": "Python 3",
   "language": "python",
   "name": "python3"
  },
  "language_info": {
   "codemirror_mode": {
    "name": "ipython",
    "version": 3
   },
   "file_extension": ".py",
   "mimetype": "text/x-python",
   "name": "python",
   "nbconvert_exporter": "python",
   "pygments_lexer": "ipython3",
   "version": "3.7.6"
  }
 },
 "nbformat": 4,
 "nbformat_minor": 4
}
