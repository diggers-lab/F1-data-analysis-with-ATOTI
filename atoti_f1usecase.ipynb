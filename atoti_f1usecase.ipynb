{
 "cells": [
  {
   "cell_type": "markdown",
   "metadata": {},
   "source": [
    "# Tutorial - F1 data analysis with Atoti"
   ]
  },
  {
   "cell_type": "markdown",
   "metadata": {},
   "source": [
    "## Introduction\n",
    "Jupyter notebook created by David Chevrier, Diggers  \n",
    "Built on ATOTI, ActivePivot Python API library, Community version  \n",
    "http://diggers-consulting.com  \n",
    "contact@diggers-consulting.com  \n",
    "\n",
    "Initial version: April 2020  \n",
    "Last update: June 2020\n",
    "\n",
    "Tutorial project with Atoti, analyzing historical Formula1 data to understand the impact of different scoring systems in F1 history on championship results\n",
    "\n",
    "git-hub\n",
    "https://github.com/diggers-lab/F1-data-analysis-with-ATOTI"
   ]
  },
  {
   "cell_type": "markdown",
   "metadata": {},
   "source": [
    "## Dataset\n",
    "Data from https://ergast.com/mrd/db/#csv or https://www.kaggle.com/draeg82/exploration-of-f1-dataset/data  \n",
    "F1 data from 1950 to 2019\n"
   ]
  },
  {
   "cell_type": "markdown",
   "metadata": {},
   "source": [
    "## Prerequisites\n",
    "### Installation\n",
    "Atoti library installed in your jupyter lab environment  \n",
    "Check the official installation page https://docs.atoti.io/0.4.0/installation.html\n",
    "\n",
    "### Changes in data files\n",
    "In files drivers.csv, rename column 'url' to 'driver_url'"
   ]
  },
  {
   "cell_type": "markdown",
   "metadata": {},
   "source": [
    "## Limitations"
   ]
  },
  {
   "cell_type": "markdown",
   "metadata": {},
   "source": [
    "This tutorial will demonstrate how to use simulations and scenarios to analyze how different scoring system in F1 history could have changed the championships results.\n",
    "In F1 history, depending on the scoring systems, the way to determine the World Champion is not always as simple as summing the points scored at each race of the year, based on the position of the driver.\n",
    "You can check that on this page https://en.wikipedia.org/wiki/List_of_Formula_One_World_Championship_points_scoring_systems, for example: \n",
    "- between 1950 and 1900, not all races should be taken into consideration in the calculation, but only the N-best results of the year (ex: 11 best results between 1980 and 1990)\n",
    "- extra points could be distributed for specific achievements (best lap, double points awarded in the last race of that season in 2014...)\n",
    "- half points were awarded for races stopped before three-quarter-distance was completed\n",
    "  \n",
    "As a simplification here, we will exclude these specific rules.  \n",
    "It could be the topic of another tutorial, don't hesitate if you want to help! :)  \n",
    "  \n",
    "As a result, we will focus on races from 1991 through 2018, excluding 2014 => for this list, the calculation to determine the WC is simply the sum of the points scored by drivers at all venues.\n",
    "  \n",
    "  \n",
    "Reference: variation of points scoring rule in F1 history  \n",
    "[EN version](https://en.wikipedia.org/wiki/List_of_Formula_One_World_Championship_points_scoring_systems)  \n",
    "[FR version](https://fr.wikipedia.org/wiki/Classement_des_pilotes_de_Formule_1_par_nombre_de_points#%C3%89volution_de_l'attribution_des_points_au_cours_du_temps)"
   ]
  },
  {
   "cell_type": "markdown",
   "metadata": {},
   "source": [
    "## 1. Initialization & creation of the activepivot session"
   ]
  },
  {
   "cell_type": "code",
   "execution_count": null,
   "metadata": {},
   "outputs": [],
   "source": [
    "import atoti as tt\n",
    "import numpy as np\n",
    "import pandas as pd\n",
    "\n",
    "session = tt.create_session()"
   ]
  },
  {
   "cell_type": "markdown",
   "metadata": {},
   "source": [
    "## 2. Creation of Stores"
   ]
  },
  {
   "cell_type": "code",
   "execution_count": null,
   "metadata": {},
   "outputs": [],
   "source": [
    "#force driverId to STRING for later usage in simulation\n",
    "driversTypes = {\n",
    "    \"driverId\": tt.types.STRING,\n",
    "}\n",
    "\n",
    "#load data in store\n",
    "sDrivers = session.read_csv(\"./f1db_csv/drivers.csv\", keys=[\"driverId\"], store_name=\"F1 drivers\", types = driversTypes)"
   ]
  },
  {
   "cell_type": "code",
   "execution_count": null,
   "metadata": {},
   "outputs": [],
   "source": [
    "#force raceId to STRING for later usage in simulation\n",
    "racesTypes = {\n",
    "    \"raceId\": tt.types.STRING,\n",
    "}\n",
    "\n",
    "#load data in store\n",
    "sRaces = session.read_csv(\"./f1db_csv/races.csv\", keys=['raceId'], store_name=\"F1 races\", types=racesTypes)"
   ]
  },
  {
   "cell_type": "code",
   "execution_count": null,
   "metadata": {},
   "outputs": [],
   "source": [
    "#force points to DOUBLE for later usage in simulation\n",
    "resultsTypes = {\n",
    "    \"points\": tt.types.DOUBLE,\n",
    "    \"raceId\": tt.types.STRING,\n",
    "    \"driverId\": tt.types.STRING,\n",
    "}\n",
    "\n",
    "#load data in store\n",
    "sResults = session.read_csv(\"./f1db_csv/results.csv\", keys=['resultId'], store_name=\"F1 results\", types=resultsTypes)"
   ]
  },
  {
   "cell_type": "code",
   "execution_count": null,
   "metadata": {},
   "outputs": [],
   "source": [
    "print('Number of results: ',sResults.shape)"
   ]
  },
  {
   "cell_type": "code",
   "execution_count": null,
   "metadata": {},
   "outputs": [],
   "source": [
    "sResults.join(sDrivers,mapping={\"driverId\":\"driverId\"})\n",
    "sResults.join(sRaces, mapping={\"raceId\": \"raceId\"})\n",
    "#sResults.head(joined_columns=True)"
   ]
  },
  {
   "cell_type": "code",
   "execution_count": null,
   "metadata": {},
   "outputs": [],
   "source": [
    "#load_all_data necessary otherwise stores are loaded with 10000 lines max\n",
    "session.load_all_data()"
   ]
  },
  {
   "cell_type": "code",
   "execution_count": null,
   "metadata": {},
   "outputs": [],
   "source": [
    "print('Number of results: ',sResults.shape)"
   ]
  },
  {
   "cell_type": "markdown",
   "metadata": {},
   "source": [
    "## 3. Cube"
   ]
  },
  {
   "cell_type": "markdown",
   "metadata": {},
   "source": [
    "### Cube for Race results"
   ]
  },
  {
   "cell_type": "code",
   "execution_count": null,
   "metadata": {},
   "outputs": [],
   "source": [
    "#load store into multidimensional cube \n",
    "f1cube= session.create_cube(sResults,\"F1Cube\")"
   ]
  },
  {
   "cell_type": "code",
   "execution_count": null,
   "metadata": {},
   "outputs": [],
   "source": [
    "l = f1cube.levels\n",
    "m = f1cube.measures\n",
    "h = f1cube.hierarchies"
   ]
  },
  {
   "cell_type": "code",
   "execution_count": null,
   "metadata": {},
   "outputs": [],
   "source": [
    "session.url"
   ]
  },
  {
   "cell_type": "markdown",
   "metadata": {},
   "source": [
    "## 4. First data visualization"
   ]
  },
  {
   "cell_type": "markdown",
   "metadata": {},
   "source": [
    "### dataviz1\n",
    "A simple data visualization showing a table with the total number of races by driver, sorted by descending 'count' field"
   ]
  },
  {
   "cell_type": "code",
   "execution_count": null,
   "metadata": {
    "activeviam": {
     "state": {
      "name": "Total number of races by driver",
      "type": "container",
      "value": {
       "body": {
        "configuration": {
         "tabular": {
          "columnOrder": {
           "args": {
            "orderedColumns": [
             "[Hierarchies].[driverRef].[driverRef]",
             "[Hierarchies].[driverId].[driverId]",
             "[Measures].[contributors.COUNT]"
            ]
           },
           "key": "explicit"
          },
          "columnsGroups": [
           {
            "captionProducer": "firstColumn",
            "cellFactory": "kpi-status",
            "selector": "kpi-status"
           },
           {
            "captionProducer": "firstColumn",
            "cellFactory": "lookup",
            "selector": "lookup"
           },
           {
            "captionProducer": "expiry",
            "cellFactory": "expiry",
            "selector": "kpi-expiry"
           }
          ],
          "defaultOptions": {},
          "hideAddButton": true,
          "lineNumbers": true,
          "sortingMode": "breaking",
          "statisticsShown": true
         }
        },
        "contextValues": {},
        "mdx": "WITH  Member [Measures].[[Hierarchies]].[driverRef]].[driverRef]]_for_order] AS [Hierarchies].[driverRef].CurrentMember.MEMBER_VALUE  SELECT NON EMPTY Order(Crossjoin([Hierarchies].[driverRef].[driverRef].Members, [Hierarchies].[driverId].[driverId].Members), [Measures].[contributors.COUNT], BDESC) ON ROWS, [Measures].[contributors.COUNT] ON COLUMNS FROM [F1Cube] CELL PROPERTIES BACK_COLOR, FONT_FLAGS, FORE_COLOR, FORMATTED_VALUE, VALUE",
        "ranges": {
         "column": {
          "chunkSize": 50,
          "thresholdPercentage": 0.2
         },
         "row": {
          "chunkSize": 2000,
          "thresholdPercentage": 0.1
         }
        },
        "serverUrl": "",
        "updateMode": "once"
       },
       "containerKey": "tabular-view",
       "showTitleBar": false,
       "style": {}
      }
     }
    },
    "atoti": {
     "state": {
      "name": "Total number of races by driver",
      "type": "container",
      "value": {
       "body": {
        "configuration": {
         "tabular": {
          "addButtonFilter": "numeric",
          "columnsGroups": [
           {
            "captionProducer": "firstColumn",
            "cellFactory": "kpi-status",
            "selector": "kpi-status"
           },
           {
            "captionProducer": "firstColumn",
            "cellFactory": "lookup",
            "selector": "lookup"
           },
           {
            "captionProducer": "expiry",
            "cellFactory": "expiry",
            "selector": "kpi-expiry"
           },
           {
            "captionProducer": "columnMerge",
            "cellFactory": {
             "args": {},
             "key": "treeCells"
            },
            "selector": "member"
           }
          ],
          "defaultOptions": {},
          "expansion": {
           "automaticExpansion": true
          },
          "hideAddButton": true,
          "pinnedHeaderSelector": "member",
          "sortingMode": "non-breaking",
          "statisticsShown": true
         }
        },
        "contextValues": {},
        "mdx": "SELECT NON EMPTY [Measures].[contributors.COUNT] ON COLUMNS, NON EMPTY Order(DrilldownLevel([Hierarchies].[driverRef].[ALL].[AllMember]), [Measures].[contributors.COUNT], DESC) ON ROWS FROM [F1Cube] CELL PROPERTIES VALUE, FORMATTED_VALUE, BACK_COLOR, FORE_COLOR, FONT_FLAGS",
        "ranges": {
         "column": {
          "chunkSize": 50,
          "thresholdPercentage": 0.2
         },
         "row": {
          "chunkSize": 2000,
          "thresholdPercentage": 0.1
         }
        },
        "serverUrl": "",
        "updateMode": "once"
       },
       "containerKey": "pivot-table",
       "showTitleBar": false,
       "style": {}
      }
     }
    }
   },
   "outputs": [],
   "source": [
    "f1cube.visualize('Total number of races by driver')"
   ]
  },
  {
   "cell_type": "code",
   "execution_count": null,
   "metadata": {
    "atoti": {
     "state": {
      "name": "Total number of points by driver / treemap",
      "type": "container",
      "value": {
       "body": {
        "configuration": {
         "mapping": {
          "splitBy": [
           "[Hierarchies].[driverRef].[driverRef]"
          ],
          "values": [
           "[Measures].[points.SUM]"
          ]
         },
         "type": "plotly-tree-map"
        },
        "query": {
         "mdx": "SELECT NON EMPTY [Hierarchies].[driverRef].[driverRef].Members ON ROWS, NON EMPTY [Measures].[points.SUM] ON COLUMNS FROM [F1Cube] CELL PROPERTIES VALUE, FORMATTED_VALUE, BACK_COLOR, FORE_COLOR, FONT_FLAGS",
         "serverUrl": "",
         "updateMode": "once"
        }
       },
       "containerKey": "chart",
       "showTitleBar": false,
       "style": {}
      }
     }
    }
   },
   "outputs": [],
   "source": [
    "f1cube.visualize('Total number of points by driver / treemap')"
   ]
  },
  {
   "cell_type": "markdown",
   "metadata": {},
   "source": [
    "## 5 First queries"
   ]
  },
  {
   "cell_type": "markdown",
   "metadata": {},
   "source": [
    "In this first tutorial, we will focus on the points.SUM measure created by default in the cube.  \n",
    "You can check the available measures by displaying the object cube.measures.  "
   ]
  },
  {
   "cell_type": "code",
   "execution_count": null,
   "metadata": {},
   "outputs": [],
   "source": [
    "m"
   ]
  },
  {
   "cell_type": "markdown",
   "metadata": {},
   "source": [
    "### query1\n",
    "A simple query that returns a dataframe with the total number of points aggregated by driver forname,surname"
   ]
  },
  {
   "cell_type": "code",
   "execution_count": null,
   "metadata": {},
   "outputs": [],
   "source": [
    "dfq1=f1cube.query(\n",
    "    m['points.SUM'],\n",
    "    levels=[l[\"forename\"],l[\"surname\"]]\n",
    ")\n",
    "dfq1"
   ]
  },
  {
   "cell_type": "markdown",
   "metadata": {},
   "source": [
    "### query2\n",
    "A similar query with the addition of the condition parameters, used as a filter on levels."
   ]
  },
  {
   "cell_type": "code",
   "execution_count": null,
   "metadata": {},
   "outputs": [],
   "source": [
    "dfq2=f1cube.query(\n",
    "    m['points.SUM'],\n",
    "    levels=[l[\"forename\"],l[\"surname\"]],\n",
    "    condition=l[\"surname\"]==\"Prost\"\n",
    ")\n",
    "dfq2\n",
    "# check data here: https://www.statsf1.com/en/alain-prost.aspx"
   ]
  },
  {
   "cell_type": "markdown",
   "metadata": {},
   "source": [
    "### query3\n",
    "Another query returning a datafram aggregating points mesaure by driver and by year.  \n",
    "You can actually run aggreagations on any dimension of the cube!"
   ]
  },
  {
   "cell_type": "code",
   "execution_count": null,
   "metadata": {},
   "outputs": [],
   "source": [
    "dfq3 = f1cube.query(m['points.SUM'],levels=[l[\"driverRef\"],l[\"year\"]])\n",
    "dfq3"
   ]
  },
  {
   "cell_type": "code",
   "execution_count": null,
   "metadata": {},
   "outputs": [],
   "source": [
    "# You can then manipulate your dataframe like any other pandas dataframe, applying filtrer for example\n",
    "dfq3[dfq3['points.SUM']>0]"
   ]
  },
  {
   "cell_type": "code",
   "execution_count": null,
   "metadata": {},
   "outputs": [],
   "source": [
    "# in this case the resulting dataframe is multi-indexed\n",
    "dfq3.loc[\"alesi\"].loc[1992]['points.SUM']\n",
    "#check data at https://www.statsf1.com/en/1992.aspx"
   ]
  },
  {
   "cell_type": "markdown",
   "metadata": {},
   "source": [
    "### dataviz2\n",
    "Data visualization of the top-5 drivers with the highest total of points in their whole career"
   ]
  },
  {
   "cell_type": "code",
   "execution_count": null,
   "metadata": {
    "activeviam": {
     "state": {
      "name": "TOP-5 drivers with highest total points in career",
      "type": "container",
      "value": {
       "body": {
        "configuration": {
         "mapping": {
          "splitBy": [
           "[Hierarchies].[driverRef].[driverRef]"
          ],
          "values": [
           "[Measures].[points.SUM]"
          ]
         },
         "plotly": {
          "layout": {
           "yaxis": {
            "categoryorder": "total ascending"
           }
          }
         },
         "switchedTo": "plotly-clustered-bar-chart",
         "type": "plotly-tree-map"
        },
        "query": {
         "mdx": "SELECT NON EMPTY [Hierarchies].[driverRef].[driverRef].Members ON ROWS, NON EMPTY [Measures].[points.SUM] ON COLUMNS FROM (SELECT TopCount(Filter([Hierarchies].[driverRef].Levels(1).Members, NOT IsEmpty([Measures].[points.SUM])), 5, [Measures].[points.SUM]) ON COLUMNS FROM [F1Cube]) CELL PROPERTIES VALUE, FORMATTED_VALUE, BACK_COLOR, FORE_COLOR, FONT_FLAGS",
         "serverUrl": "",
         "updateMode": "once"
        }
       },
       "containerKey": "chart",
       "showTitleBar": false,
       "style": {}
      }
     }
    },
    "atoti": {
     "state": {
      "name": "TOP-5 drivers with highest total points in career",
      "type": "container",
      "value": {
       "body": {
        "configuration": {
         "mapping": {
          "horizontal": [],
          "splitBy": [],
          "values": [
           "[Measures].[points.SUM]"
          ],
          "vertical": [],
          "xAxis": [
           "[Hierarchies].[driverRef].[driverRef]"
          ]
         },
         "plotly": {
          "layout": {
           "yaxis": {
            "categoryorder": "total ascending"
           }
          }
         },
         "switchedTo": "plotly-clustered-bar-chart",
         "type": "plotly-line-chart"
        },
        "query": {
         "mdx": "SELECT NON EMPTY [Measures].[points.SUM] ON COLUMNS, NON EMPTY [Hierarchies].[driverRef].[driverRef].Members ON ROWS FROM (SELECT TopCount(Filter([Hierarchies].[driverRef].Levels(1).Members, NOT IsEmpty([Measures].[points.SUM])), 5, [Measures].[points.SUM]) ON COLUMNS FROM [F1Cube]) CELL PROPERTIES VALUE, FORMATTED_VALUE, BACK_COLOR, FORE_COLOR, FONT_FLAGS",
         "serverUrl": "",
         "updateMode": "once"
        }
       },
       "containerKey": "chart",
       "showTitleBar": false,
       "style": {}
      }
     }
    }
   },
   "outputs": [],
   "source": [
    "f1cube.visualize('TOP-5 drivers with highest total points in career')\n",
    "\n",
    "## check here in the widget configuration the \"TopCount\" filter used to select only the top-5\n",
    "## check here the cell metadata to sort the data in the chart\n",
    "    #     \"plotly\": {\n",
    "    #         \"layout\": {\n",
    "    #             \"yaxis\": {\n",
    "    #                 \"categoryorder\": \"total ascending\"\n",
    "    #             }\n",
    "    #         }\n",
    "    #     },\n",
    "    \n",
    "# check the data at https://www.statsf1.com/en/statistiques/pilote/point/nombre.aspx"
   ]
  },
  {
   "cell_type": "markdown",
   "metadata": {},
   "source": [
    "## 6. Measures"
   ]
  },
  {
   "cell_type": "markdown",
   "metadata": {},
   "source": [
    "### definition of a measure to determine the WC for a given year"
   ]
  },
  {
   "cell_type": "code",
   "execution_count": null,
   "metadata": {},
   "outputs": [],
   "source": [
    "# step 1: we define a measure that will return the maximum aggregation of points.SUM for a given driver on any dimension\n",
    "m[\"Driver Points MAX\"] = tt.agg.max(\n",
    "    m[\"points.SUM\"], \n",
    "    scope=tt.scope.origin(l[\"driverRef\"])\n",
    ")\n"
   ]
  },
  {
   "cell_type": "code",
   "execution_count": null,
   "metadata": {},
   "outputs": [],
   "source": [
    "# we can use it to determine the maximum number of points scored by a driver per chamionship\n",
    "f1cube.query(\n",
    "    m[\"Driver Points MAX\"], \n",
    "    levels=[l[\"year\"]]\n",
    ")"
   ]
  },
  {
   "cell_type": "code",
   "execution_count": null,
   "metadata": {},
   "outputs": [],
   "source": [
    "# let's display the maximum number of points scored by a given driver at Abu Dhabi GP venue\n",
    "f1cube.query(\n",
    "    m[\"Driver Points MAX\"], \n",
    "    levels=[l[\"name\"]], \n",
    "    condition=(l[\"name\"]==\"Abu Dhabi Grand Prix\")\n",
    ")\n",
    "# check data for Abu Dhabi GP (Lewis Hamilton) at https://www.statsf1.com/en/lewis-hamilton/palmares.aspx"
   ]
  },
  {
   "cell_type": "code",
   "execution_count": null,
   "metadata": {},
   "outputs": [],
   "source": [
    "# step 2: we define a measure that will return the max of the previous measure between several drivers\n",
    "m[\"Winner Points\"] = tt.parent_value(\n",
    "    m[\"Driver Points MAX\"], \n",
    "    on = h[\"driverRef\"]\n",
    ")"
   ]
  },
  {
   "cell_type": "code",
   "execution_count": null,
   "metadata": {},
   "outputs": [],
   "source": [
    "# query examples: comparing the 2 previously defined measures\n",
    "f1cube.query(\n",
    "    m[\"Driver Points MAX\"],\n",
    "    m[\"Winner Points\"],\n",
    "    levels=[l[\"year\"],l[\"driverRef\"]]\n",
    ")"
   ]
  },
  {
   "cell_type": "code",
   "execution_count": null,
   "metadata": {},
   "outputs": [],
   "source": [
    "# step 3: we create a new measure that will only return the first driver among N where sum of points.SUM equals 'Winner Points' result\n",
    "# limitation: does not handle ex aequo!\n",
    "m[\"Winner\"] = tt.agg.single_value(\n",
    "    tt.where(\n",
    "        m[\"Winner Points\"] == m[\"points.SUM\"], \n",
    "        l[\"driverRef\"]\n",
    "    ),\n",
    "    scope=tt.scope.origin(l[\"driverRef\"]),\n",
    ")"
   ]
  },
  {
   "cell_type": "code",
   "execution_count": null,
   "metadata": {},
   "outputs": [],
   "source": [
    "# as a result, we can now query the driver who scored the max points per year = the World Champion \n",
    "# (based on our simplified model as mentionned at the beginning, meaning that the results are only correct for years between 1991 and 2018 exlucing 2014)\n",
    "f1cube.query(\n",
    "    m[\"Winner\"],\n",
    "    levels=[l[\"year\"]]\n",
    ")"
   ]
  },
  {
   "cell_type": "markdown",
   "metadata": {},
   "source": [
    "### dataviz3: world champions between 1991-2018 (excluding 2014)"
   ]
  },
  {
   "cell_type": "code",
   "execution_count": null,
   "metadata": {
    "atoti": {
     "state": {
      "name": "World Champions table",
      "type": "container",
      "value": {
       "body": {
        "configuration": {
         "tabular": {
          "columnOrder": {
           "args": {
            "orderedColumns": [
             "[Hierarchies].[year].[year]",
             "[Measures].[Champion]",
             "[Measures].[Winner]"
            ]
           },
           "key": "explicit"
          },
          "columnsGroups": [
           {
            "captionProducer": "firstColumn",
            "cellFactory": "kpi-status",
            "selector": "kpi-status"
           },
           {
            "captionProducer": "firstColumn",
            "cellFactory": "lookup",
            "selector": "lookup"
           },
           {
            "captionProducer": "expiry",
            "cellFactory": "expiry",
            "selector": "kpi-expiry"
           }
          ],
          "defaultOptions": {},
          "hideAddButton": true,
          "lineNumbers": true,
          "sortingMode": "breaking",
          "statisticsShown": true
         }
        },
        "contextValues": {},
        "mdx": "SELECT [Measures].[Winner] ON COLUMNS, NON EMPTY [Hierarchies].[year].[year].Members ON ROWS FROM (SELECT Except([Hierarchies].[year].[year].Members, {[Hierarchies].[year].[ALL].[AllMember].[2014]}) ON COLUMNS FROM (SELECT Filter([Hierarchies].[year].[year].Members, [Hierarchies].[year].CurrentMember.MEMBER_CAPTION >= \"1991\" and [Hierarchies].[year].CurrentMember.MEMBER_CAPTION <= \"2018\") ON COLUMNS FROM [F1Cube])) CELL PROPERTIES VALUE, FORMATTED_VALUE, BACK_COLOR, FORE_COLOR, FONT_FLAGS",
        "ranges": {
         "column": {
          "chunkSize": 50,
          "thresholdPercentage": 0.2
         },
         "row": {
          "chunkSize": 2000,
          "thresholdPercentage": 0.1
         }
        },
        "serverUrl": "",
        "updateMode": "once"
       },
       "containerKey": "tabular-view",
       "showTitleBar": false,
       "style": {}
      }
     }
    }
   },
   "outputs": [],
   "source": [
    "f1cube.visualize('World Champions table')\n",
    "#check data at https://www.statsf1.com/en/statistiques/pilote/champion/chronologie.aspx"
   ]
  },
  {
   "cell_type": "markdown",
   "metadata": {},
   "source": [
    "## 7. Simulations"
   ]
  },
  {
   "cell_type": "markdown",
   "metadata": {},
   "source": [
    "### Preparation of a dataframe for the different scoring systems"
   ]
  },
  {
   "cell_type": "code",
   "execution_count": null,
   "metadata": {},
   "outputs": [],
   "source": [
    "# index = race year, 1 column for each position, values are the number of points scored for the race position\n",
    "scoring_columns = np.arange(1,41)\n",
    "scoring_index = ('sc1950to1959fl sc1960 sc1961to1990 sc1991to2002 sc2003to2009 sc2010to2013 sc2014lr sc2015to2018 sc2019fl').split()"
   ]
  },
  {
   "cell_type": "code",
   "execution_count": null,
   "metadata": {},
   "outputs": [],
   "source": [
    "dfscoring = pd.DataFrame(0,index=scoring_index,columns=scoring_columns)"
   ]
  },
  {
   "cell_type": "code",
   "execution_count": null,
   "metadata": {},
   "outputs": [],
   "source": [
    "# before 1991, the calculation rule is not a simple aggregation given that only the Nth best race results were retained...\n",
    "# dfscoring.loc['sc1950to1959fl'][1,2,3,4,5] = [8,6,4,3,2] #fastest lap bonus +1 point\n",
    "# dfscoring.loc['sc1960'][1,2,3,4,5,6] = [8,6,4,3,2,1]\n",
    "# dfscoring.loc['sc1961to1990'][1,2,3,4,5,6] = [9,6,4,3,2,1]\n",
    "dfscoring.loc['sc1991to2002'][1,2,3,4,5,6] = [10,6,4,3,2,1]\n",
    "dfscoring.loc['sc2003to2009'][1,2,3,4,5,6,7,8] = [10,8,6,5,4,3,2,1]\n",
    "dfscoring.loc['sc2010to2013'][1,2,3,4,5,6,7,8,9,10] = [25,18,15,12,10,8,6,4,2,1]\n",
    "# dfscoring.loc['sc2014lr'][1,2,3,4,5,6,7,8,9,10] = [25,18,15,12,10,8,6,4,2,1] #last race bonus double points\n",
    "dfscoring.loc['sc2015to2018'] = dfscoring.loc['sc2010to2013']\n",
    "# dfscoring.loc['sc2019fl'] = dfscoring.loc['sc2010to2013'] #fastest lap bonus +1 point"
   ]
  },
  {
   "cell_type": "code",
   "execution_count": null,
   "metadata": {},
   "outputs": [],
   "source": [
    "#dfscoring.loc['sc2015to2018'][1]\n",
    "dfscoring"
   ]
  },
  {
   "cell_type": "markdown",
   "metadata": {},
   "source": [
    "### Simulation on points"
   ]
  },
  {
   "cell_type": "code",
   "execution_count": null,
   "metadata": {},
   "outputs": [],
   "source": [
    "# Creation of simulation\n",
    "pointssystem_sim = f1cube.setup_simulation(\n",
    "    'pointssystem_sim',\n",
    "    levels=[l[\"positionText\"], l[\"driverId\"], l[\"raceId\"]],\n",
    "    replace=[m[\"points.SUM\"]], \n",
    "    base_scenario = 'Base'\n",
    ")"
   ]
  },
  {
   "cell_type": "code",
   "execution_count": null,
   "metadata": {},
   "outputs": [],
   "source": [
    "# Creation of the different scenarios\n",
    "sc2015to2018_scenario = pointssystem_sim.scenarios['System 2015 to 2018']\n",
    "sc1991to2002_scenario = pointssystem_sim.scenarios['System 1991 to 2002']\n",
    "sc2003to2009_scenario = pointssystem_sim.scenarios['System 2003 to 2009']"
   ]
  },
  {
   "cell_type": "code",
   "execution_count": null,
   "metadata": {},
   "outputs": [],
   "source": [
    "# Feed of the different scenarios with points from related scoring systems\n",
    "for i in range(1,11):\n",
    "    x=float(dfscoring.loc[\"sc2015to2018\"][i])\n",
    "    sc2015to2018_scenario += (str(i), None, None, x)\n",
    "    \n",
    "    x=float(dfscoring.loc[\"sc1991to2002\"][i])\n",
    "    sc1991to2002_scenario += (str(i), None, None, x)\n",
    "    \n",
    "    x=float(dfscoring.loc[\"sc2003to2009\"][i])\n",
    "    sc2003to2009_scenario += (str(i), None, None, x)"
   ]
  },
  {
   "cell_type": "code",
   "execution_count": null,
   "metadata": {},
   "outputs": [],
   "source": [
    "sc2015to2018_scenario.head(10)\n",
    "#sc1991to2002_scenario.head(10)\n",
    "#sc2003to2009_scenario.head(10)"
   ]
  },
  {
   "cell_type": "markdown",
   "metadata": {},
   "source": [
    "## 8. Presentation of the results of the different scenarios compared to the historical results: chamionship winners!"
   ]
  },
  {
   "cell_type": "code",
   "execution_count": null,
   "metadata": {
    "atoti": {
     "height": 877,
     "state": {
      "name": "World champions comparions",
      "type": "container",
      "value": {
       "body": {
        "configuration": {
         "tabular": {
          "addButtonFilter": "numeric",
          "columnOrder": {
           "args": {
            "orderedColumns": [
             "__lineNumber__",
             "c-treeCells-member",
             "[Measure Simulations].[pointssystem_sim].[pointssystem_sim].[Base]",
             "[Measure Simulations].[pointssystem_sim].[pointssystem_sim].[System 1991 to 2002]",
             "[Measure Simulations].[pointssystem_sim].[pointssystem_sim].[System 2003 to 2009]",
             "[Measure Simulations].[pointssystem_sim].[pointssystem_sim].[System 2015 to 2018]"
            ]
           },
           "key": "explicit"
          },
          "columns": [
           {
            "key": "([Measure Simulations].[pointssystem_sim].[pointssystem_sim].[Base],[Measures].[Winner])",
            "width": 160
           },
           {
            "key": "([Measure Simulations].[pointssystem_sim].[pointssystem_sim].[System 1991 to 2002],[Measures].[Winner])",
            "width": 190
           },
           {
            "key": "([Measure Simulations].[pointssystem_sim].[pointssystem_sim].[System 2003 to 2009],[Measures].[Winner])",
            "width": 190
           },
           {
            "key": "([Measure Simulations].[pointssystem_sim].[pointssystem_sim].[System 2015 to 2018],[Measures].[Winner])",
            "width": 190
           },
           {
            "headerbgColor": "rgb(53, 28, 117)",
            "headerfgColor": "rgb(255, 217, 102)",
            "key": "c-treeCells-member",
            "width": 142
           },
           {
            "key": "[Measure Simulations].[pointssystem_sim].[pointssystem_sim].[System 1991 to 2002]",
            "width": 190
           },
           {
            "key": "[Measure Simulations].[pointssystem_sim].[pointssystem_sim].[System 2003 to 2009]",
            "width": 190
           },
           {
            "key": "[Measure Simulations].[pointssystem_sim].[pointssystem_sim].[System 2015 to 2018]",
            "width": 190
           },
           {
            "headerbgColor": "rgb(102, 102, 102)",
            "headerfgColor": "rgb(255, 255, 255)",
            "key": "[Measure Simulations].[pointssystem_sim].[pointssystem_sim].[Base]",
            "width": 147
           }
          ],
          "columnsGroups": [
           {
            "captionProducer": "firstColumn",
            "cellFactory": "kpi-status",
            "selector": "kpi-status"
           },
           {
            "captionProducer": "firstColumn",
            "cellFactory": "lookup",
            "selector": "lookup"
           },
           {
            "captionProducer": "expiry",
            "cellFactory": "expiry",
            "selector": "kpi-expiry"
           },
           {
            "captionProducer": "columnMerge",
            "cellFactory": {
             "args": {
              "automaticExpansion": true
             },
             "key": "treeCells"
            },
            "selector": "member"
           }
          ],
          "defaultOptions": {},
          "hideAddButton": true,
          "lineNumbers": true,
          "pinnedHeaderSelector": "member",
          "sortingMode": "non-breaking",
          "statisticsShown": true
         }
        },
        "contextValues": {},
        "mdx": "WITH  Member [Measures].[Winner (1)] AS [Measures].[Winner], CAPTION = [Measures].[Winner].MEMBER_CAPTION, FORE_COLOR = CASE WHEN [Measures].[Winner (1)] <> ([Measure Simulations].[pointssystem_sim].[pointssystem_sim].[Base], [Measures].[Winner (1)]) THEN rgb(255, 0, 0) END  SELECT NON EMPTY Hierarchize([Measure Simulations].[pointssystem_sim].[pointssystem_sim].Members) ON COLUMNS, NON EMPTY Hierarchize([Hierarchies].[year].[year].Members) ON ROWS FROM (SELECT Filter([Hierarchies].[year].[year].Members, [Hierarchies].[year].CurrentMember.MEMBER_CAPTION >= \"1991\" and [Hierarchies].[year].CurrentMember.MEMBER_CAPTION <= \"2018\") ON COLUMNS FROM (SELECT Except([Hierarchies].[year].[year].Members, {[Hierarchies].[year].[ALL].[AllMember].[2014]}) ON COLUMNS FROM [F1Cube] WHERE [Measures].[Winner (1)]) WHERE [Measures].[Winner (1)]) WHERE [Measures].[Winner (1)] CELL PROPERTIES BACK_COLOR, FONT_FLAGS, FORE_COLOR, FORMATTED_VALUE, VALUE",
        "ranges": {
         "column": {
          "chunkSize": 50,
          "thresholdPercentage": 0.2
         },
         "row": {
          "chunkSize": 2000,
          "thresholdPercentage": 0.1
         }
        },
        "serverUrl": "",
        "updateMode": "once"
       },
       "containerKey": "pivot-table",
       "showTitleBar": false,
       "style": {}
      }
     }
    }
   },
   "outputs": [],
   "source": [
    "f1cube.visualize('World champions comparions')\n",
    "\n",
    "# different WC compared to Base are highlighted in red"
   ]
  },
  {
   "cell_type": "markdown",
   "metadata": {},
   "source": [
    "### Results\n",
    "Interesting to see that with 2003-2009 and 2005-2018 scoring systems we would have the same impacts:\n",
    "- Damon Hill would have become a 2 times WC, Schumi will continue with 7 titles but Villeneuve would have lost his crown in 1997... And Eddy Irvine would have won the title in 1999 againt Mike Hakkinen (the year Michael Schumacher broke his leg and missed several races)!\n",
    "  \n",
    "- We can notice the limitation of our measure \"Winner\": in 2016, with the 1991-2002 scoring system, the value is empty. We have an ex-aequo between Rosberg and Hamilton! Actually, Hamilton would have won the title instead of Rosberg, because he won 10 races against 9 for Rosberg!"
   ]
  },
  {
   "cell_type": "markdown",
   "metadata": {},
   "source": [
    "### Showing the differences for the race result of a famous GP, Brazil 2008\n",
    "Where we see how the 1991-2002 scoring systems makes a big difference between chamionship rivals Massa & Hamilton\n",
    "See race summary here :https://www.youtube.com/watch?v=XHSeGou-pCI ;)"
   ]
  },
  {
   "cell_type": "code",
   "execution_count": null,
   "metadata": {
    "atoti": {
     "state": {
      "name": "Base vs. Simulation - Brazil 2008",
      "type": "container",
      "value": {
       "body": {
        "configuration": {
         "tabular": {
          "addButtonFilter": "numeric",
          "columns": [
           {
            "key": "([Measure Simulations].[pointssystem_sim].[pointssystem_sim].[System 1991 to 2002],[Measures].[points.SUM])",
            "width": 159
           },
           {
            "key": "([Measure Simulations].[pointssystem_sim].[pointssystem_sim].[System 2003 to 2009],[Measures].[points.SUM])",
            "width": 150
           },
           {
            "key": "([Measure Simulations].[pointssystem_sim].[pointssystem_sim].[System 2015 to 2018],[Measures].[points.SUM])",
            "width": 162
           }
          ],
          "columnsGroups": [
           {
            "captionProducer": "firstColumn",
            "cellFactory": "kpi-status",
            "selector": "kpi-status"
           },
           {
            "captionProducer": "firstColumn",
            "cellFactory": "lookup",
            "selector": "lookup"
           },
           {
            "captionProducer": "expiry",
            "cellFactory": "expiry",
            "selector": "kpi-expiry"
           },
           {
            "captionProducer": "columnMerge",
            "cellFactory": {
             "args": {
              "automaticExpansion": true
             },
             "key": "treeCells"
            },
            "selector": "member"
           }
          ],
          "defaultOptions": {},
          "hideAddButton": true,
          "lineNumbers": true,
          "pinnedHeaderSelector": "member",
          "sortingMode": "non-breaking",
          "statisticsShown": true
         }
        },
        "contextValues": {
         "F1Cube": {
          "mdx.hiddengrandtotals": "1"
         }
        },
        "mdx": "SELECT NON EMPTY Crossjoin([Measure Simulations].[pointssystem_sim].[pointssystem_sim].Members, [Measures].[points.SUM]) ON COLUMNS, NON EMPTY Order(DrilldownLevel([Hierarchies].[driverRef].[ALL].[AllMember]), [Measures].[points.SUM], DESC) ON ROWS FROM [F1Cube] WHERE ([Hierarchies].[year].[ALL].[AllMember].[2008], [Hierarchies].[name].[ALL].[AllMember].[Brazilian Grand Prix]) CELL PROPERTIES VALUE, FORMATTED_VALUE, BACK_COLOR, FORE_COLOR, FONT_FLAGS",
        "ranges": {
         "column": {
          "chunkSize": 50,
          "thresholdPercentage": 0.2
         },
         "row": {
          "chunkSize": 2000,
          "thresholdPercentage": 0.1
         }
        },
        "serverUrl": "",
        "updateMode": "once"
       },
       "containerKey": "pivot-table",
       "showTitleBar": false,
       "style": {}
      }
     }
    }
   },
   "outputs": [],
   "source": [
    "f1cube.visualize('Base vs. Simulation - Brazil 2008')"
   ]
  },
  {
   "cell_type": "markdown",
   "metadata": {},
   "source": [
    "### Showing the differences for the 2008 world championship result\n",
    "Would Felipe Massa have become world champion in 2008 with the 1991-2002 scoring system?? YES!"
   ]
  },
  {
   "cell_type": "code",
   "execution_count": null,
   "metadata": {
    "atoti": {
     "height": 514,
     "state": {
      "name": "Base vs. Simulation System 1991 to 2002 / 2008 Championship (chart)",
      "type": "container",
      "value": {
       "body": {
        "configuration": {
         "mapping": {
          "horizontal": [],
          "splitBy": [
           "[Measure Simulations].[pointssystem_sim].[pointssystem_sim]"
          ],
          "values": [
           "[Measures].[points.SUM]"
          ],
          "vertical": [],
          "yAxis": [
           "[Hierarchies].[driverRef].[driverRef]"
          ]
         },
         "plotly": {
          "layout": {
           "yaxis": {
            "categoryorder": "total ascending"
           }
          }
         },
         "type": "plotly-clustered-bar-chart"
        },
        "query": {
         "mdx": "SELECT NON EMPTY Crossjoin([Hierarchies].[driverRef].[driverRef].Members, [Measure Simulations].[pointssystem_sim].[pointssystem_sim].Members) ON ROWS, NON EMPTY [Measures].[points.SUM] ON COLUMNS FROM (SELECT Filter([Measure Simulations].[pointssystem_sim].[pointssystem_sim].Members, [Measures].[points.SUM] > 0) ON COLUMNS FROM (SELECT {[Measure Simulations].[pointssystem_sim].[pointssystem_sim].[Base], [Measure Simulations].[pointssystem_sim].[pointssystem_sim].[System 1991 to 2002]} ON COLUMNS FROM [F1Cube] WHERE [Hierarchies].[year].[ALL].[AllMember].[2008]) WHERE [Hierarchies].[year].[ALL].[AllMember].[2008]) WHERE [Hierarchies].[year].[ALL].[AllMember].[2008] CELL PROPERTIES VALUE, FORMATTED_VALUE, BACK_COLOR, FORE_COLOR, FONT_FLAGS",
         "serverUrl": "",
         "updateMode": "once"
        }
       },
       "containerKey": "chart",
       "showTitleBar": false,
       "style": {}
      }
     }
    }
   },
   "outputs": [],
   "source": [
    "# 2008 championship\n",
    "f1cube.visualize('Base vs. Simulation System 1991 to 2002 / 2008 Championship (chart)')"
   ]
  },
  {
   "cell_type": "code",
   "execution_count": null,
   "metadata": {
    "atoti": {
     "state": {
      "name": "Base vs. Simulation System 1991 to 2002 / 2008 Championship (table)",
      "type": "container",
      "value": {
       "body": {
        "configuration": {
         "tabular": {
          "addButtonFilter": "numeric",
          "columns": [
           {
            "key": "([Measure Simulations].[pointssystem_sim].[pointssystem_sim].[System 1991 to 2002],[Measures].[points.SUM])",
            "width": 190
           },
           {
            "key": "([Measure Simulations].[pointssystem_sim].[pointssystem_sim].[Base],[Measures].[points.SUM])",
            "width": 182
           }
          ],
          "columnsGroups": [
           {
            "captionProducer": "firstColumn",
            "cellFactory": "kpi-status",
            "selector": "kpi-status"
           },
           {
            "captionProducer": "firstColumn",
            "cellFactory": "lookup",
            "selector": "lookup"
           },
           {
            "captionProducer": "expiry",
            "cellFactory": "expiry",
            "selector": "kpi-expiry"
           },
           {
            "captionProducer": "columnMerge",
            "cellFactory": {
             "args": {
              "automaticExpansion": true
             },
             "key": "treeCells"
            },
            "selector": "member"
           }
          ],
          "defaultOptions": {},
          "hideAddButton": true,
          "lineNumbers": true,
          "pinnedHeaderSelector": "member",
          "sortingMode": "non-breaking",
          "statisticsShown": true
         }
        },
        "contextValues": {
         "F1Cube": {
          "mdx.hiddengrandtotals": "1"
         }
        },
        "mdx": "SELECT NON EMPTY Order(DrilldownLevel([Hierarchies].[driverRef].[ALL].[AllMember]), ([Measure Simulations].[pointssystem_sim].[pointssystem_sim].[System 1991 to 2002], [Measures].[points.SUM]), DESC) ON ROWS, NON EMPTY Crossjoin([Measure Simulations].[pointssystem_sim].[pointssystem_sim].Members, [Measures].[points.SUM]) ON COLUMNS FROM (SELECT {[Measure Simulations].[pointssystem_sim].[pointssystem_sim].[Base], [Measure Simulations].[pointssystem_sim].[pointssystem_sim].[System 1991 to 2002]} ON COLUMNS FROM [F1Cube] WHERE [Hierarchies].[year].[ALL].[AllMember].[2008]) WHERE [Hierarchies].[year].[ALL].[AllMember].[2008] CELL PROPERTIES VALUE, FORMATTED_VALUE, BACK_COLOR, FORE_COLOR, FONT_FLAGS",
        "ranges": {
         "column": {
          "chunkSize": 50,
          "thresholdPercentage": 0.2
         },
         "row": {
          "chunkSize": 2000,
          "thresholdPercentage": 0.1
         }
        },
        "serverUrl": "",
        "updateMode": "once"
       },
       "containerKey": "pivot-table",
       "showTitleBar": false,
       "style": {}
      }
     }
    }
   },
   "outputs": [],
   "source": [
    "# 2008 championship\n",
    "f1cube.visualize('Base vs. Simulation System 1991 to 2002 / 2008 Championship (table)')"
   ]
  },
  {
   "cell_type": "markdown",
   "metadata": {},
   "source": [
    "## THE END!"
   ]
  }
 ],
 "metadata": {
  "kernelspec": {
   "display_name": "Python 3",
   "language": "python",
   "name": "python3"
  },
  "language_info": {
   "codemirror_mode": {
    "name": "ipython",
    "version": 3
   },
   "file_extension": ".py",
   "mimetype": "text/x-python",
   "name": "python",
   "nbconvert_exporter": "python",
   "pygments_lexer": "ipython3",
   "version": "3.7.6"
  }
 },
 "nbformat": 4,
 "nbformat_minor": 4
}
